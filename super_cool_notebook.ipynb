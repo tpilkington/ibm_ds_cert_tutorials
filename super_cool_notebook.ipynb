{
 "cells": [
  {
   "cell_type": "code",
   "execution_count": 1,
   "id": "726801e6-ab9a-44a4-9550-c4027084d992",
   "metadata": {},
   "outputs": [
    {
     "data": {
      "text/plain": [
       "2"
      ]
     },
     "execution_count": 1,
     "metadata": {},
     "output_type": "execute_result"
    }
   ],
   "source": [
    "1+1"
   ]
  },
  {
   "cell_type": "markdown",
   "id": "702f6787-fe52-4614-88a9-99d65e43fbed",
   "metadata": {},
   "source": [
    "# your title is butts"
   ]
  },
  {
   "cell_type": "code",
   "execution_count": 2,
   "id": "6ac598a0-58d0-49e2-ac48-ca5f58221e57",
   "metadata": {},
   "outputs": [
    {
     "name": "stdout",
     "output_type": "stream",
     "text": [
      "what is 1+1? 2 . okay, fine, but what about 3^3? 27\n"
     ]
    }
   ],
   "source": [
    "print(\"what is 1+1?\",1+1,\". okay, fine, but what about 3^3?\",3**3)"
   ]
  },
  {
   "cell_type": "markdown",
   "id": "84b9d140-3abe-46ee-b66d-d18411bf317d",
   "metadata": {},
   "source": [
    "this title is not butts\n",
    "======================="
   ]
  },
  {
   "cell_type": "markdown",
   "id": "ba79203b-3efd-41be-a3b3-c313a91816c7",
   "metadata": {},
   "source": [
    "i don't know\n",
    "\n",
    "---"
   ]
  },
  {
   "cell_type": "markdown",
   "id": "b22eccdf-3507-48b8-bc16-6e6ffdd57380",
   "metadata": {},
   "source": [
    "Here's a table:\n",
    "\n",
    "| date | reading | colour |\n",
    "|-|-|-|\n",
    "| 2022-01-14 | 0.1525 | orange |\n",
    "| 2022-01-13 | 0.1555 | red |\n",
    "| 2022-01-12 | 0.1475 | yellow |\n",
    "| 2022-01-11 | 0.1535 | orange |"
   ]
  },
  {
   "cell_type": "code",
   "execution_count": null,
   "id": "2773f415-9a08-432d-bbf9-b3b51bdb7422",
   "metadata": {},
   "outputs": [],
   "source": []
  }
 ],
 "metadata": {
  "kernelspec": {
   "display_name": "Python",
   "language": "python",
   "name": "conda-env-python-py"
  },
  "language_info": {
   "codemirror_mode": {
    "name": "ipython",
    "version": 3
   },
   "file_extension": ".py",
   "mimetype": "text/x-python",
   "name": "python",
   "nbconvert_exporter": "python",
   "pygments_lexer": "ipython3",
   "version": "3.7.12"
  }
 },
 "nbformat": 4,
 "nbformat_minor": 5
}
